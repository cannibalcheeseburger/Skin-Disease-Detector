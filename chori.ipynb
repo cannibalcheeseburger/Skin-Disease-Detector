{
  "nbformat": 4,
  "nbformat_minor": 0,
  "metadata": {
    "colab": {
      "name": "AiModel.ipynb",
      "provenance": [],
      "include_colab_link": true
    },
    "kernelspec": {
      "name": "python3",
      "display_name": "Python 3"
    },
    "accelerator": "GPU"
  },
  "cells": [
    {
      "cell_type": "markdown",
      "metadata": {
        "id": "view-in-github",
        "colab_type": "text"
      },
      "source": [
        "<a href=\"https://colab.research.google.com/github/Aditi0102/ML-notebook/blob/main/AiModel.ipynb\" target=\"_parent\"><img src=\"https://colab.research.google.com/assets/colab-badge.svg\" alt=\"Open In Colab\"/></a>"
      ]
    },
    {
      "cell_type": "code",
      "metadata": {
        "id": "AlJRNQ5bkBFN"
      },
      "source": [
        "! pip install -q kaggle"
      ],
      "execution_count": null,
      "outputs": []
    },
    {
      "cell_type": "code",
      "metadata": {
        "id": "UMv6e4ksts7i"
      },
      "source": [
        "%tensorflow_version 2.x"
      ],
      "execution_count": 1,
      "outputs": []
    },
    {
      "cell_type": "code",
      "metadata": {
        "id": "NwONeUCXtvOy"
      },
      "source": [
        "import tensorflow as tf\n",
        "from tensorflow import keras\n",
        "from tensorflow.keras import datasets, layers, models\n",
        "from sklearn.model_selection import train_test_split\n",
        "import matplotlib.pyplot as plt\n",
        "import numpy as np\n",
        "from tensorflow.keras.preprocessing.image import ImageDataGenerator\n",
        "from IPython.display import clear_output\n",
        "import cv2\n",
        "from tensorflow.keras.optimizers import RMSprop\n",
        "from google.colab.patches import cv2_imshow\n",
        "import math"
      ],
      "execution_count": 2,
      "outputs": []
    },
    {
      "cell_type": "code",
      "metadata": {
        "colab": {
          "resources": {
            "http://localhost:8080/nbextensions/google.colab/files.js": {
              "data": "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",
              "ok": true,
              "headers": [
                [
                  "content-type",
                  "application/javascript"
                ]
              ],
              "status": 200,
              "status_text": ""
            }
          },
          "base_uri": "https://localhost:8080/",
          "height": 90
        },
        "id": "yAkLu1SfmL9J",
        "outputId": "1ce195bb-3ffa-450f-c4e4-8f0d34b5924e"
      },
      "source": [
        "from google.colab import files\n",
        "files.upload()"
      ],
      "execution_count": 3,
      "outputs": [
        {
          "output_type": "display_data",
          "data": {
            "text/html": [
              "\n",
              "     <input type=\"file\" id=\"files-60359e96-918e-4c63-bbd2-8a98f067d7ad\" name=\"files[]\" multiple disabled\n",
              "        style=\"border:none\" />\n",
              "     <output id=\"result-60359e96-918e-4c63-bbd2-8a98f067d7ad\">\n",
              "      Upload widget is only available when the cell has been executed in the\n",
              "      current browser session. Please rerun this cell to enable.\n",
              "      </output>\n",
              "      <script src=\"/nbextensions/google.colab/files.js\"></script> "
            ],
            "text/plain": [
              "<IPython.core.display.HTML object>"
            ]
          },
          "metadata": {
            "tags": []
          }
        },
        {
          "output_type": "stream",
          "text": [
            "Saving kaggle.json to kaggle.json\n"
          ],
          "name": "stdout"
        },
        {
          "output_type": "execute_result",
          "data": {
            "text/plain": [
              "{'kaggle.json': b'{\"username\":\"aditiagarwal01\",\"key\":\"4c56849565c39183e765f285aeafe7d3\"}\\n'}"
            ]
          },
          "metadata": {
            "tags": []
          },
          "execution_count": 3
        }
      ]
    },
    {
      "cell_type": "code",
      "metadata": {
        "id": "4ltXdvj3mVIY"
      },
      "source": [
        "! mkdir ~/.kaggle\n",
        "! cp kaggle.json ~/.kaggle/\n",
        "! chmod 600 ~/.kaggle/kaggle.json"
      ],
      "execution_count": 4,
      "outputs": []
    },
    {
      "cell_type": "code",
      "metadata": {
        "colab": {
          "base_uri": "https://localhost:8080/"
        },
        "id": "T0gQkgc8miLa",
        "outputId": "10f2f199-352b-408c-d283-b437ec02220a"
      },
      "source": [
        "! kaggle datasets download -d mohamedmustafa/real-life-violence-situations-dataset"
      ],
      "execution_count": 5,
      "outputs": [
        {
          "output_type": "stream",
          "text": [
            "Downloading real-life-violence-situations-dataset.zip to /content\n",
            "100% 3.58G/3.58G [01:05<00:00, 48.1MB/s]\n",
            "100% 3.58G/3.58G [01:05<00:00, 58.6MB/s]\n"
          ],
          "name": "stdout"
        }
      ]
    },
    {
      "cell_type": "code",
      "metadata": {
        "id": "T76UmcodoIm4",
        "colab": {
          "base_uri": "https://localhost:8080/"
        },
        "outputId": "afa4abb0-8d36-4db5-f292-768852cdcc5e"
      },
      "source": [
        "!unzip \\*.zip  && rm *.zip\n",
        "clear_output()\n",
        "print(\"Extracted\")"
      ],
      "execution_count": 6,
      "outputs": [
        {
          "output_type": "stream",
          "text": [
            "Extracted\n"
          ],
          "name": "stdout"
        }
      ]
    },
    {
      "cell_type": "code",
      "metadata": {
        "id": "XMhnNE9i5l8s"
      },
      "source": [
        "import os\n",
        "train_folder = 'Directories/training/violent'\n",
        "if not os.path.exists(train_folder):\n",
        "    os.makedirs(train_folder)"
      ],
      "execution_count": 7,
      "outputs": []
    },
    {
      "cell_type": "code",
      "metadata": {
        "colab": {
          "base_uri": "https://localhost:8080/"
        },
        "id": "cOpn_icTw1Lt",
        "outputId": "c43872d9-56b7-42cf-af1c-4756632b6174"
      },
      "source": [
        "# Training Data\n",
        "\n",
        "count = 0\n",
        "for i in range (1,800):\n",
        "    videoFile = f\"/content/real life violence situations/Real Life Violence Dataset/Violence/V_{i}.mp4\"\n",
        "    cap = cv2.VideoCapture(videoFile)   # capturing the video from the given path\n",
        "    print(f\"Processing Violence_{i}\")\n",
        "    while True:\n",
        "        ret, frame = cap.read()\n",
        "        if ret is False:\n",
        "            break\n",
        "        frame = cv2.resize(frame, (64,64))\n",
        "        fname = '%s/%d.jpg' % (train_folder, count)\n",
        "        cv2.imwrite(fname, frame)\n",
        "        count += 1\n",
        "    \n",
        "    cap.release()\n",
        "clear_output()\n",
        "print(\"Done Training with Violence !!\")\n"
      ],
      "execution_count": 8,
      "outputs": [
        {
          "output_type": "stream",
          "text": [
            "Done Training with Violence !!\n"
          ],
          "name": "stdout"
        }
      ]
    },
    {
      "cell_type": "code",
      "metadata": {
        "id": "vxdVjDdA7AdJ"
      },
      "source": [
        "import os\n",
        "test_folder = 'Directories/validation/violent'\n",
        "if not os.path.exists(test_folder):\n",
        "    os.makedirs(test_folder)"
      ],
      "execution_count": 9,
      "outputs": []
    },
    {
      "cell_type": "code",
      "metadata": {
        "colab": {
          "base_uri": "https://localhost:8080/"
        },
        "id": "dhxAyhsJ6uAB",
        "outputId": "f5c99692-8aab-41c5-a1f2-8aafc2274c99"
      },
      "source": [
        "# Testing Data\n",
        "count = 0\n",
        "for i in range (800,1000):\n",
        "    videoFile = f\"/content/real life violence situations/Real Life Violence Dataset/Violence/V_{i}.mp4\"\n",
        "    cap = cv2.VideoCapture(videoFile)   # capturing the video from the given path\n",
        "    print(f\"Processing Violence_{i}\")\n",
        "    while True:\n",
        "        ret, frame = cap.read()\n",
        "        if ret is False:\n",
        "            break\n",
        "        frame = cv2.resize(frame, (64,64))\n",
        "        fname = '%s/%d.jpg' % (test_folder, count)\n",
        "        cv2.imwrite(fname, frame)\n",
        "        count += 1\n",
        "    \n",
        "    cap.release()\n",
        "clear_output()\n",
        "print(\"Done Training with Violence !!\")\n"
      ],
      "execution_count": 23,
      "outputs": [
        {
          "output_type": "stream",
          "text": [
            "Done Training with Violence !!\n"
          ],
          "name": "stdout"
        }
      ]
    },
    {
      "cell_type": "code",
      "metadata": {
        "id": "cukhDLj87SPF"
      },
      "source": [
        "import os\n",
        "nv_folder = 'Directories/training/non_violent'\n",
        "if not os.path.exists(nv_folder):\n",
        "    os.makedirs(nv_folder)"
      ],
      "execution_count": 11,
      "outputs": []
    },
    {
      "cell_type": "code",
      "metadata": {
        "colab": {
          "base_uri": "https://localhost:8080/"
        },
        "id": "gHmQnEXSxw9k",
        "outputId": "710780ac-6ebe-47d5-dcd0-eef402807ab1"
      },
      "source": [
        "count = 0\n",
        "for i in range (1,800):\n",
        "    videoFile = f\"/content/real life violence situations/Real Life Violence Dataset/NonViolence/NV_{i}.mp4\"\n",
        "    cap = cv2.VideoCapture(videoFile)   # capturing the video from the given path\n",
        "    print(f\"Reading File NonViolence_{i}\")\n",
        "    while True:\n",
        "        ret, frame = cap.read()\n",
        "        if ret is False:\n",
        "            break\n",
        "\n",
        "        frame = cv2.resize(frame, (64,64))\n",
        "        fname = '%s/%d.jpg' % (nv_folder, count)\n",
        "        cv2.imwrite(fname, frame)\n",
        "        count += 1\n",
        "\n",
        "        count += 1\n",
        "    cap.release()\n",
        "clear_output()\n",
        "print(\"Done Training with Non-Violence !!\")"
      ],
      "execution_count": 12,
      "outputs": [
        {
          "output_type": "stream",
          "text": [
            "Done Training with Non-Violence !!\n"
          ],
          "name": "stdout"
        }
      ]
    },
    {
      "cell_type": "code",
      "metadata": {
        "id": "IO9uqERn7U8a"
      },
      "source": [
        "import os\n",
        "nv_test_folder = 'Directories/validation/non_violent'\n",
        "if not os.path.exists(nv_test_folder):\n",
        "    os.makedirs(nv_test_folder)"
      ],
      "execution_count": 13,
      "outputs": []
    },
    {
      "cell_type": "code",
      "metadata": {
        "colab": {
          "base_uri": "https://localhost:8080/"
        },
        "id": "Je8pMkix7WKe",
        "outputId": "684a87de-4798-4dcf-e395-46b113ce4c0f"
      },
      "source": [
        "count = 0\n",
        "for i in range (800,1000):\n",
        "    videoFile = f\"/content/real life violence situations/Real Life Violence Dataset/NonViolence/NV_{i}.mp4\"\n",
        "    cap = cv2.VideoCapture(videoFile)   # capturing the video from the given path\n",
        "    print(f\"Reading File NonViolence_{i}\")\n",
        "    while True:\n",
        "        ret, frame = cap.read()\n",
        "        if ret is False:\n",
        "            break\n",
        "\n",
        "        frame = cv2.resize(frame, (64,64))\n",
        "        fname = '%s/%d.jpg' % (nv_test_folder, count)\n",
        "        cv2.imwrite(fname, frame)\n",
        "        count += 1\n",
        "\n",
        "        count += 1\n",
        "    cap.release()\n",
        "clear_output()\n",
        "print(\"Done Training with Non-Violence !!\")\n"
      ],
      "execution_count": 24,
      "outputs": [
        {
          "output_type": "stream",
          "text": [
            "Done Training with Non-Violence !!\n"
          ],
          "name": "stdout"
        }
      ]
    },
    {
      "cell_type": "code",
      "metadata": {
        "id": "m2HBuKBHMOTJ"
      },
      "source": [
        "base_dir = './Directories'\n",
        "train_dir = os.path.join(base_dir,'training')\n",
        "validation_dir = os.path.join(base_dir,'validation')"
      ],
      "execution_count": 15,
      "outputs": []
    },
    {
      "cell_type": "code",
      "metadata": {
        "id": "uUl20IHGWBsa"
      },
      "source": [
        "train_violent_dir = os.path.join(train_dir,'violent')\n",
        "train_nonviolent_dir=os.path.join(train_dir,'non_violent')\n",
        "validation_violent_dir=os.path.join(validation_dir,'violent')\n",
        "validation_nonviolent_dir=os.path.join(validation_dir,'non_violent')"
      ],
      "execution_count": 16,
      "outputs": []
    },
    {
      "cell_type": "code",
      "metadata": {
        "id": "GndUejjEBI30"
      },
      "source": [
        "train_datagen= ImageDataGenerator(rescale=1./255,rotation_range=40, width_shift_range=0.2, height_shift_range=0.2, shear_range=0.2, horizontal_flip=True, fill_mode='nearest')\n",
        "test_datagen = ImageDataGenerator(rescale =1./255)"
      ],
      "execution_count": 17,
      "outputs": []
    },
    {
      "cell_type": "code",
      "metadata": {
        "colab": {
          "base_uri": "https://localhost:8080/"
        },
        "id": "gBh-0oWIC3Hv",
        "outputId": "e4ac0021-ba0f-4f9d-888e-7698ca64ebb6"
      },
      "source": [
        "train_generator = train_datagen.flow_from_directory(train_dir,color_mode=\"rgb\", target_size = (64,64),batch_size=20, class_mode='binary', shuffle=True)"
      ],
      "execution_count": 18,
      "outputs": [
        {
          "output_type": "stream",
          "text": [
            "Found 226270 images belonging to 2 classes.\n"
          ],
          "name": "stdout"
        }
      ]
    },
    {
      "cell_type": "code",
      "metadata": {
        "colab": {
          "base_uri": "https://localhost:8080/"
        },
        "id": "HGy2UI6fZvLf",
        "outputId": "bcfa1308-6549-4752-83f1-4b01c5f732da"
      },
      "source": [
        "validation_generator = test_datagen.flow_from_directory(validation_dir,color_mode=\"rgb\",target_size=(64,64),batch_size=20,class_mode='binary', shuffle=True)\n"
      ],
      "execution_count": 25,
      "outputs": [
        {
          "output_type": "stream",
          "text": [
            "Found 54195 images belonging to 2 classes.\n"
          ],
          "name": "stdout"
        }
      ]
    },
    {
      "cell_type": "code",
      "metadata": {
        "id": "jQwhVxvGaxej"
      },
      "source": [
        "model= tf.keras.models.Sequential([\n",
        "       tf.keras.layers.Conv2D(32,(3,3),activation='relu',input_shape=(64,64,3)),\n",
        "       tf.keras.layers.MaxPooling2D(2,2),\n",
        "       tf.keras.layers.Conv2D(64,(3,3),activation='relu'),\n",
        "       tf.keras.layers.MaxPooling2D(2,2),\n",
        "       tf.keras.layers.Conv2D(128,(3,3),activation='relu'),\n",
        "       tf.keras.layers.MaxPooling2D(2,2),\n",
        "       tf.keras.layers.Conv2D(128,(3,3),activation='relu'),\n",
        "       tf.keras.layers.MaxPooling2D(2,2),\n",
        "       tf.keras.layers.Dropout(0.5),\n",
        "       tf.keras.layers.Flatten(),\n",
        "       tf.keras.layers.Dense(512, activation='relu'),\n",
        "       tf.keras.layers.Dense(1,activation ='sigmoid')\n",
        "\n",
        "])"
      ],
      "execution_count": 20,
      "outputs": []
    },
    {
      "cell_type": "code",
      "metadata": {
        "id": "NpeQGki-bPdz"
      },
      "source": [
        "model.compile(loss='binary_crossentropy',optimizer='adam',metrics=['accuracy'])"
      ],
      "execution_count": 26,
      "outputs": []
    },
    {
      "cell_type": "code",
      "metadata": {
        "colab": {
          "base_uri": "https://localhost:8080/"
        },
        "id": "PI59Z3fYdcAv",
        "outputId": "8cb29b61-664a-4abb-91a7-ba24f52b38bd"
      },
      "source": [
        "model1= model.fit(train_generator, \n",
        "                  steps_per_epoch=100,\n",
        "                  epochs=40, \n",
        "                  validation_data=validation_generator,\n",
        "                  validation_steps=50,verbose=2)"
      ],
      "execution_count": 27,
      "outputs": [
        {
          "output_type": "stream",
          "text": [
            "Epoch 1/40\n",
            "100/100 - 4s - loss: 0.5803 - accuracy: 0.6635 - val_loss: 0.8932 - val_accuracy: 0.4390\n",
            "Epoch 2/40\n",
            "100/100 - 3s - loss: 0.5850 - accuracy: 0.6665 - val_loss: 0.8499 - val_accuracy: 0.4960\n",
            "Epoch 3/40\n",
            "100/100 - 3s - loss: 0.5762 - accuracy: 0.6835 - val_loss: 0.7541 - val_accuracy: 0.5160\n",
            "Epoch 4/40\n",
            "100/100 - 3s - loss: 0.5603 - accuracy: 0.6980 - val_loss: 0.9308 - val_accuracy: 0.5010\n",
            "Epoch 5/40\n",
            "100/100 - 3s - loss: 0.5744 - accuracy: 0.6690 - val_loss: 0.9510 - val_accuracy: 0.5390\n",
            "Epoch 6/40\n",
            "100/100 - 3s - loss: 0.5470 - accuracy: 0.6955 - val_loss: 1.2567 - val_accuracy: 0.5450\n",
            "Epoch 7/40\n",
            "100/100 - 3s - loss: 0.5499 - accuracy: 0.6900 - val_loss: 1.2234 - val_accuracy: 0.4920\n",
            "Epoch 8/40\n",
            "100/100 - 3s - loss: 0.5417 - accuracy: 0.7030 - val_loss: 0.9773 - val_accuracy: 0.5220\n",
            "Epoch 9/40\n",
            "100/100 - 3s - loss: 0.5293 - accuracy: 0.7280 - val_loss: 0.8835 - val_accuracy: 0.4840\n",
            "Epoch 10/40\n",
            "100/100 - 3s - loss: 0.5478 - accuracy: 0.7060 - val_loss: 0.8550 - val_accuracy: 0.5070\n",
            "Epoch 11/40\n",
            "100/100 - 3s - loss: 0.5434 - accuracy: 0.6940 - val_loss: 0.8276 - val_accuracy: 0.5320\n",
            "Epoch 12/40\n",
            "100/100 - 3s - loss: 0.5256 - accuracy: 0.7115 - val_loss: 0.9841 - val_accuracy: 0.5090\n",
            "Epoch 13/40\n",
            "100/100 - 3s - loss: 0.5347 - accuracy: 0.7035 - val_loss: 1.3512 - val_accuracy: 0.5440\n",
            "Epoch 14/40\n",
            "100/100 - 3s - loss: 0.5160 - accuracy: 0.7350 - val_loss: 0.9251 - val_accuracy: 0.5610\n",
            "Epoch 15/40\n",
            "100/100 - 3s - loss: 0.4949 - accuracy: 0.7525 - val_loss: 1.3205 - val_accuracy: 0.5420\n",
            "Epoch 16/40\n",
            "100/100 - 3s - loss: 0.5035 - accuracy: 0.7420 - val_loss: 0.8702 - val_accuracy: 0.5150\n",
            "Epoch 17/40\n",
            "100/100 - 3s - loss: 0.5377 - accuracy: 0.7245 - val_loss: 1.0565 - val_accuracy: 0.5470\n",
            "Epoch 18/40\n",
            "100/100 - 3s - loss: 0.5145 - accuracy: 0.7310 - val_loss: 0.8735 - val_accuracy: 0.5340\n",
            "Epoch 19/40\n",
            "100/100 - 3s - loss: 0.4872 - accuracy: 0.7520 - val_loss: 1.1498 - val_accuracy: 0.5240\n",
            "Epoch 20/40\n",
            "100/100 - 3s - loss: 0.5068 - accuracy: 0.7495 - val_loss: 1.1300 - val_accuracy: 0.5260\n",
            "Epoch 21/40\n",
            "100/100 - 3s - loss: 0.5112 - accuracy: 0.7235 - val_loss: 1.6511 - val_accuracy: 0.5090\n",
            "Epoch 22/40\n",
            "100/100 - 3s - loss: 0.4797 - accuracy: 0.7595 - val_loss: 1.1683 - val_accuracy: 0.5370\n",
            "Epoch 23/40\n",
            "100/100 - 3s - loss: 0.4848 - accuracy: 0.7540 - val_loss: 1.3011 - val_accuracy: 0.5090\n",
            "Epoch 24/40\n",
            "100/100 - 3s - loss: 0.4629 - accuracy: 0.7755 - val_loss: 1.6575 - val_accuracy: 0.5530\n",
            "Epoch 25/40\n",
            "100/100 - 3s - loss: 0.4882 - accuracy: 0.7610 - val_loss: 0.9635 - val_accuracy: 0.5490\n",
            "Epoch 26/40\n",
            "100/100 - 3s - loss: 0.4787 - accuracy: 0.7575 - val_loss: 1.4349 - val_accuracy: 0.5250\n",
            "Epoch 27/40\n",
            "100/100 - 3s - loss: 0.4779 - accuracy: 0.7575 - val_loss: 1.1564 - val_accuracy: 0.4990\n",
            "Epoch 28/40\n",
            "100/100 - 3s - loss: 0.4443 - accuracy: 0.7790 - val_loss: 1.2360 - val_accuracy: 0.5410\n",
            "Epoch 29/40\n",
            "100/100 - 3s - loss: 0.4654 - accuracy: 0.7650 - val_loss: 1.0172 - val_accuracy: 0.5460\n",
            "Epoch 30/40\n",
            "100/100 - 3s - loss: 0.4449 - accuracy: 0.7900 - val_loss: 1.0566 - val_accuracy: 0.5450\n",
            "Epoch 31/40\n",
            "100/100 - 3s - loss: 0.4601 - accuracy: 0.7720 - val_loss: 1.1951 - val_accuracy: 0.5290\n",
            "Epoch 32/40\n",
            "100/100 - 3s - loss: 0.4654 - accuracy: 0.7750 - val_loss: 1.1744 - val_accuracy: 0.5360\n",
            "Epoch 33/40\n",
            "100/100 - 3s - loss: 0.4554 - accuracy: 0.7770 - val_loss: 1.1092 - val_accuracy: 0.5500\n",
            "Epoch 34/40\n",
            "100/100 - 3s - loss: 0.3982 - accuracy: 0.8110 - val_loss: 1.7597 - val_accuracy: 0.5340\n",
            "Epoch 35/40\n",
            "100/100 - 3s - loss: 0.4172 - accuracy: 0.8010 - val_loss: 1.0192 - val_accuracy: 0.5220\n",
            "Epoch 36/40\n",
            "100/100 - 3s - loss: 0.4258 - accuracy: 0.7975 - val_loss: 1.2545 - val_accuracy: 0.5070\n",
            "Epoch 37/40\n",
            "100/100 - 3s - loss: 0.4425 - accuracy: 0.7815 - val_loss: 1.2508 - val_accuracy: 0.5360\n",
            "Epoch 38/40\n",
            "100/100 - 3s - loss: 0.4119 - accuracy: 0.8040 - val_loss: 1.3899 - val_accuracy: 0.5540\n",
            "Epoch 39/40\n",
            "100/100 - 3s - loss: 0.4387 - accuracy: 0.7830 - val_loss: 1.6016 - val_accuracy: 0.5430\n",
            "Epoch 40/40\n",
            "100/100 - 3s - loss: 0.3946 - accuracy: 0.8180 - val_loss: 1.3553 - val_accuracy: 0.5220\n"
          ],
          "name": "stdout"
        }
      ]
    },
    {
      "cell_type": "code",
      "metadata": {
        "colab": {
          "base_uri": "https://localhost:8080/"
        },
        "id": "RXdehUbrPnuI",
        "outputId": "932b7108-1e81-4572-9ce1-a4579d9c093c"
      },
      "source": [
        "import time\r\n",
        "t = time.time()\r\n",
        "export_path_keras = \"./{}.h5\".format(int(t))\r\n",
        "print(export_path_keras)\r\n",
        "\r\n",
        "model.save(export_path_keras)"
      ],
      "execution_count": 28,
      "outputs": [
        {
          "output_type": "stream",
          "text": [
            "./1611203344.h5\n"
          ],
          "name": "stdout"
        }
      ]
    }
  ]
}