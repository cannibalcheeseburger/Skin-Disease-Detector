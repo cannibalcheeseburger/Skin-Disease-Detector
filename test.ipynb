{
 "metadata": {
  "language_info": {
   "codemirror_mode": {
    "name": "ipython",
    "version": 3
   },
   "file_extension": ".py",
   "mimetype": "text/x-python",
   "name": "python",
   "nbconvert_exporter": "python",
   "pygments_lexer": "ipython3",
   "version": "3.7.6-final"
  },
  "orig_nbformat": 2,
  "kernelspec": {
   "name": "python37664bit1d7ef2e8cff042f78a509e385ee1219d",
   "display_name": "Python 3.7.6 64-bit",
   "language": "python"
  }
 },
 "nbformat": 4,
 "nbformat_minor": 2,
 "cells": [
  {
   "cell_type": "code",
   "execution_count": 53,
   "metadata": {},
   "outputs": [],
   "source": [
    "from bs4 import BeautifulSoup as soup\n",
    "from urllib.request import Request,urlopen\n",
    "import os\n",
    "import wget"
   ]
  },
  {
   "cell_type": "code",
   "execution_count": 17,
   "metadata": {},
   "outputs": [],
   "source": [
    "url = \"http://www.dermnet.com/images/Rosacea/photos/1\"\n",
    "req = Request(url)\n",
    "web_byte = urlopen(req).read()\n",
    "webpage = web_byte.decode('utf-8')\n",
    "page_soup = soup(webpage,\"html.parser\")"
   ]
  },
  {
   "cell_type": "code",
   "execution_count": 16,
   "metadata": {},
   "outputs": [
    {
     "output_type": "execute_result",
     "data": {
      "text/plain": [
       "'10'"
      ]
     },
     "metadata": {},
     "execution_count": 16
    }
   ],
   "source": [
    "if(page_soup.find_all('div',class_ =\"breadcrumbs\")[0].text.strip()[-3:-1].strip()  ! = i) "
   ]
  },
  {
   "cell_type": "code",
   "execution_count": 38,
   "metadata": {},
   "outputs": [],
   "source": [
    "img_cont =  page_soup.find_all('div', class_=\"thumbnails\")\n"
   ]
  },
  {
   "cell_type": "code",
   "execution_count": 35,
   "metadata": {},
   "outputs": [
    {
     "output_type": "execute_result",
     "data": {
      "text/plain": [
       "'http://www.dermnet.com/dn2/allJPGThumb3/07rosacea010206OK.jpg'"
      ]
     },
     "metadata": {},
     "execution_count": 35
    }
   ],
   "source": [
    "cont[0].find_all('img')[0]['src']"
   ]
  },
  {
   "cell_type": "code",
   "execution_count": 50,
   "metadata": {},
   "outputs": [
    {
     "output_type": "stream",
     "name": "stdout",
     "text": [
      "http://www.dermnet.com/dn2/allJPGThumb3/07rosacea010206OK.jpg\n",
      "http://www.dermnet.com/dn2/allJPGThumb3/07RosaceaForehead.jpg\n",
      "http://www.dermnet.com/dn2/allJPGThumb3/07RosaceaFulFAce.jpg\n",
      "http://www.dermnet.com/dn2/allJPGThumb3/07RosaceaK0216.jpg\n",
      "http://www.dermnet.com/dn2/allJPGThumb3/07RosaceaK02161.jpg\n",
      "http://www.dermnet.com/dn2/allJPGThumb3/07RosaceaK02162.jpg\n",
      "http://www.dermnet.com/dn2/allJPGThumb3/07RosaceaK02163.jpg\n",
      "http://www.dermnet.com/dn2/allJPGThumb3/07RosaceaK02164.jpg\n",
      "http://www.dermnet.com/dn2/allJPGThumb3/07RosaceaK02165.jpg\n",
      "http://www.dermnet.com/dn2/allJPGThumb3/07RosaceaK02166.jpg\n",
      "http://www.dermnet.com/dn2/allJPGThumb3/07RosaceaOK082806.jpg\n",
      "http://www.dermnet.com/dn2/allJPGThumb3/07RosaceaOK0828062.jpg\n",
      "http://www.dermnet.com/dn2/allJPGThumb3/07rosacea010206OK.jpg\n",
      "http://www.dermnet.com/dn2/allJPGThumb3/07RosaceaForehead.jpg\n",
      "http://www.dermnet.com/dn2/allJPGThumb3/07RosaceaFulFAce.jpg\n",
      "http://www.dermnet.com/dn2/allJPGThumb3/07RosaceaK0216.jpg\n",
      "http://www.dermnet.com/dn2/allJPGThumb3/07RosaceaK02161.jpg\n",
      "http://www.dermnet.com/dn2/allJPGThumb3/07RosaceaK02162.jpg\n",
      "http://www.dermnet.com/dn2/allJPGThumb3/07RosaceaK02163.jpg\n",
      "http://www.dermnet.com/dn2/allJPGThumb3/07RosaceaK02164.jpg\n",
      "http://www.dermnet.com/dn2/allJPGThumb3/07RosaceaK02165.jpg\n",
      "http://www.dermnet.com/dn2/allJPGThumb3/07RosaceaK02166.jpg\n",
      "http://www.dermnet.com/dn2/allJPGThumb3/07RosaceaOK082806.jpg\n",
      "http://www.dermnet.com/dn2/allJPGThumb3/07RosaceaOK0828062.jpg\n",
      "http://www.dermnet.com/dn2/allJPGThumb3/07rosacea010206OK.jpg\n",
      "http://www.dermnet.com/dn2/allJPGThumb3/07RosaceaForehead.jpg\n",
      "http://www.dermnet.com/dn2/allJPGThumb3/07RosaceaFulFAce.jpg\n",
      "http://www.dermnet.com/dn2/allJPGThumb3/07RosaceaK0216.jpg\n",
      "http://www.dermnet.com/dn2/allJPGThumb3/07RosaceaK02161.jpg\n",
      "http://www.dermnet.com/dn2/allJPGThumb3/07RosaceaK02162.jpg\n",
      "http://www.dermnet.com/dn2/allJPGThumb3/07RosaceaK02163.jpg\n",
      "http://www.dermnet.com/dn2/allJPGThumb3/07RosaceaK02164.jpg\n",
      "http://www.dermnet.com/dn2/allJPGThumb3/07RosaceaK02165.jpg\n",
      "http://www.dermnet.com/dn2/allJPGThumb3/07RosaceaK02166.jpg\n",
      "http://www.dermnet.com/dn2/allJPGThumb3/07RosaceaOK082806.jpg\n",
      "http://www.dermnet.com/dn2/allJPGThumb3/07RosaceaOK0828062.jpg\n",
      "http://www.dermnet.com/dn2/allJPGThumb3/07rosacea010206OK.jpg\n",
      "http://www.dermnet.com/dn2/allJPGThumb3/07RosaceaForehead.jpg\n",
      "http://www.dermnet.com/dn2/allJPGThumb3/07RosaceaFulFAce.jpg\n",
      "http://www.dermnet.com/dn2/allJPGThumb3/07RosaceaK0216.jpg\n",
      "http://www.dermnet.com/dn2/allJPGThumb3/07RosaceaK02161.jpg\n",
      "http://www.dermnet.com/dn2/allJPGThumb3/07RosaceaK02162.jpg\n",
      "http://www.dermnet.com/dn2/allJPGThumb3/07RosaceaK02163.jpg\n",
      "http://www.dermnet.com/dn2/allJPGThumb3/07RosaceaK02164.jpg\n",
      "http://www.dermnet.com/dn2/allJPGThumb3/07RosaceaK02165.jpg\n",
      "http://www.dermnet.com/dn2/allJPGThumb3/07RosaceaK02166.jpg\n",
      "http://www.dermnet.com/dn2/allJPGThumb3/07RosaceaOK082806.jpg\n",
      "http://www.dermnet.com/dn2/allJPGThumb3/07RosaceaOK0828062.jpg\n",
      "http://www.dermnet.com/dn2/allJPGThumb3/07rosacea010206OK.jpg\n",
      "http://www.dermnet.com/dn2/allJPGThumb3/07RosaceaForehead.jpg\n",
      "http://www.dermnet.com/dn2/allJPGThumb3/07RosaceaFulFAce.jpg\n",
      "http://www.dermnet.com/dn2/allJPGThumb3/07RosaceaK0216.jpg\n",
      "http://www.dermnet.com/dn2/allJPGThumb3/07RosaceaK02161.jpg\n",
      "http://www.dermnet.com/dn2/allJPGThumb3/07RosaceaK02162.jpg\n",
      "http://www.dermnet.com/dn2/allJPGThumb3/07RosaceaK02163.jpg\n",
      "http://www.dermnet.com/dn2/allJPGThumb3/07RosaceaK02164.jpg\n",
      "http://www.dermnet.com/dn2/allJPGThumb3/07RosaceaK02165.jpg\n",
      "http://www.dermnet.com/dn2/allJPGThumb3/07RosaceaK02166.jpg\n",
      "http://www.dermnet.com/dn2/allJPGThumb3/07RosaceaOK082806.jpg\n",
      "http://www.dermnet.com/dn2/allJPGThumb3/07RosaceaOK0828062.jpg\n",
      "http://www.dermnet.com/dn2/allJPGThumb3/07rosacea010206OK.jpg\n",
      "http://www.dermnet.com/dn2/allJPGThumb3/07RosaceaForehead.jpg\n",
      "http://www.dermnet.com/dn2/allJPGThumb3/07RosaceaFulFAce.jpg\n",
      "http://www.dermnet.com/dn2/allJPGThumb3/07RosaceaK0216.jpg\n",
      "http://www.dermnet.com/dn2/allJPGThumb3/07RosaceaK02161.jpg\n",
      "http://www.dermnet.com/dn2/allJPGThumb3/07RosaceaK02162.jpg\n",
      "http://www.dermnet.com/dn2/allJPGThumb3/07RosaceaK02163.jpg\n",
      "http://www.dermnet.com/dn2/allJPGThumb3/07RosaceaK02164.jpg\n",
      "http://www.dermnet.com/dn2/allJPGThumb3/07RosaceaK02165.jpg\n",
      "http://www.dermnet.com/dn2/allJPGThumb3/07RosaceaK02166.jpg\n",
      "http://www.dermnet.com/dn2/allJPGThumb3/07RosaceaOK082806.jpg\n",
      "http://www.dermnet.com/dn2/allJPGThumb3/07RosaceaOK0828062.jpg\n",
      "http://www.dermnet.com/dn2/allJPGThumb3/07rosacea010206OK.jpg\n",
      "http://www.dermnet.com/dn2/allJPGThumb3/07RosaceaForehead.jpg\n",
      "http://www.dermnet.com/dn2/allJPGThumb3/07RosaceaFulFAce.jpg\n",
      "http://www.dermnet.com/dn2/allJPGThumb3/07RosaceaK0216.jpg\n",
      "http://www.dermnet.com/dn2/allJPGThumb3/07RosaceaK02161.jpg\n",
      "http://www.dermnet.com/dn2/allJPGThumb3/07RosaceaK02162.jpg\n",
      "http://www.dermnet.com/dn2/allJPGThumb3/07RosaceaK02163.jpg\n",
      "http://www.dermnet.com/dn2/allJPGThumb3/07RosaceaK02164.jpg\n",
      "http://www.dermnet.com/dn2/allJPGThumb3/07RosaceaK02165.jpg\n",
      "http://www.dermnet.com/dn2/allJPGThumb3/07RosaceaK02166.jpg\n",
      "http://www.dermnet.com/dn2/allJPGThumb3/07RosaceaOK082806.jpg\n",
      "http://www.dermnet.com/dn2/allJPGThumb3/07RosaceaOK0828062.jpg\n",
      "http://www.dermnet.com/dn2/allJPGThumb3/07rosacea010206OK.jpg\n",
      "http://www.dermnet.com/dn2/allJPGThumb3/07RosaceaForehead.jpg\n",
      "http://www.dermnet.com/dn2/allJPGThumb3/07RosaceaFulFAce.jpg\n",
      "http://www.dermnet.com/dn2/allJPGThumb3/07RosaceaK0216.jpg\n",
      "http://www.dermnet.com/dn2/allJPGThumb3/07RosaceaK02161.jpg\n",
      "http://www.dermnet.com/dn2/allJPGThumb3/07RosaceaK02162.jpg\n",
      "http://www.dermnet.com/dn2/allJPGThumb3/07RosaceaK02163.jpg\n",
      "http://www.dermnet.com/dn2/allJPGThumb3/07RosaceaK02164.jpg\n",
      "http://www.dermnet.com/dn2/allJPGThumb3/07RosaceaK02165.jpg\n",
      "http://www.dermnet.com/dn2/allJPGThumb3/07RosaceaK02166.jpg\n",
      "http://www.dermnet.com/dn2/allJPGThumb3/07RosaceaOK082806.jpg\n",
      "http://www.dermnet.com/dn2/allJPGThumb3/07RosaceaOK0828062.jpg\n",
      "http://www.dermnet.com/dn2/allJPGThumb3/07rosacea010206OK.jpg\n",
      "http://www.dermnet.com/dn2/allJPGThumb3/07RosaceaForehead.jpg\n",
      "http://www.dermnet.com/dn2/allJPGThumb3/07RosaceaFulFAce.jpg\n",
      "http://www.dermnet.com/dn2/allJPGThumb3/07RosaceaK0216.jpg\n",
      "http://www.dermnet.com/dn2/allJPGThumb3/07RosaceaK02161.jpg\n",
      "http://www.dermnet.com/dn2/allJPGThumb3/07RosaceaK02162.jpg\n",
      "http://www.dermnet.com/dn2/allJPGThumb3/07RosaceaK02163.jpg\n",
      "http://www.dermnet.com/dn2/allJPGThumb3/07RosaceaK02164.jpg\n",
      "http://www.dermnet.com/dn2/allJPGThumb3/07RosaceaK02165.jpg\n",
      "http://www.dermnet.com/dn2/allJPGThumb3/07RosaceaK02166.jpg\n",
      "http://www.dermnet.com/dn2/allJPGThumb3/07RosaceaOK082806.jpg\n",
      "http://www.dermnet.com/dn2/allJPGThumb3/07RosaceaOK0828062.jpg\n",
      "http://www.dermnet.com/dn2/allJPGThumb3/07rosacea010206OK.jpg\n",
      "http://www.dermnet.com/dn2/allJPGThumb3/07RosaceaForehead.jpg\n",
      "http://www.dermnet.com/dn2/allJPGThumb3/07RosaceaFulFAce.jpg\n",
      "http://www.dermnet.com/dn2/allJPGThumb3/07RosaceaK0216.jpg\n",
      "http://www.dermnet.com/dn2/allJPGThumb3/07RosaceaK02161.jpg\n",
      "http://www.dermnet.com/dn2/allJPGThumb3/07RosaceaK02162.jpg\n",
      "http://www.dermnet.com/dn2/allJPGThumb3/07RosaceaK02163.jpg\n",
      "http://www.dermnet.com/dn2/allJPGThumb3/07RosaceaK02164.jpg\n",
      "http://www.dermnet.com/dn2/allJPGThumb3/07RosaceaK02165.jpg\n",
      "http://www.dermnet.com/dn2/allJPGThumb3/07RosaceaK02166.jpg\n",
      "http://www.dermnet.com/dn2/allJPGThumb3/07RosaceaOK082806.jpg\n",
      "http://www.dermnet.com/dn2/allJPGThumb3/07RosaceaOK0828062.jpg\n",
      "http://www.dermnet.com/dn2/allJPGThumb3/07rosacea010206OK.jpg\n",
      "http://www.dermnet.com/dn2/allJPGThumb3/07RosaceaForehead.jpg\n",
      "http://www.dermnet.com/dn2/allJPGThumb3/07RosaceaFulFAce.jpg\n",
      "http://www.dermnet.com/dn2/allJPGThumb3/07RosaceaK0216.jpg\n",
      "http://www.dermnet.com/dn2/allJPGThumb3/07RosaceaK02161.jpg\n",
      "http://www.dermnet.com/dn2/allJPGThumb3/07RosaceaK02162.jpg\n",
      "http://www.dermnet.com/dn2/allJPGThumb3/07RosaceaK02163.jpg\n",
      "http://www.dermnet.com/dn2/allJPGThumb3/07RosaceaK02164.jpg\n",
      "http://www.dermnet.com/dn2/allJPGThumb3/07RosaceaK02165.jpg\n",
      "http://www.dermnet.com/dn2/allJPGThumb3/07RosaceaK02166.jpg\n",
      "http://www.dermnet.com/dn2/allJPGThumb3/07RosaceaOK082806.jpg\n",
      "http://www.dermnet.com/dn2/allJPGThumb3/07RosaceaOK0828062.jpg\n",
      "http://www.dermnet.com/dn2/allJPGThumb3/07rosacea010206OK.jpg\n",
      "http://www.dermnet.com/dn2/allJPGThumb3/07RosaceaForehead.jpg\n",
      "http://www.dermnet.com/dn2/allJPGThumb3/07RosaceaFulFAce.jpg\n",
      "http://www.dermnet.com/dn2/allJPGThumb3/07RosaceaK0216.jpg\n",
      "http://www.dermnet.com/dn2/allJPGThumb3/07RosaceaK02161.jpg\n",
      "http://www.dermnet.com/dn2/allJPGThumb3/07RosaceaK02162.jpg\n",
      "http://www.dermnet.com/dn2/allJPGThumb3/07RosaceaK02163.jpg\n",
      "http://www.dermnet.com/dn2/allJPGThumb3/07RosaceaK02164.jpg\n",
      "http://www.dermnet.com/dn2/allJPGThumb3/07RosaceaK02165.jpg\n",
      "http://www.dermnet.com/dn2/allJPGThumb3/07RosaceaK02166.jpg\n",
      "http://www.dermnet.com/dn2/allJPGThumb3/07RosaceaOK082806.jpg\n",
      "http://www.dermnet.com/dn2/allJPGThumb3/07RosaceaOK0828062.jpg\n",
      "http://www.dermnet.com/dn2/allJPGThumb3/07rosacea010206OK.jpg\n",
      "http://www.dermnet.com/dn2/allJPGThumb3/07RosaceaForehead.jpg\n",
      "http://www.dermnet.com/dn2/allJPGThumb3/07RosaceaFulFAce.jpg\n",
      "http://www.dermnet.com/dn2/allJPGThumb3/07RosaceaK0216.jpg\n",
      "http://www.dermnet.com/dn2/allJPGThumb3/07RosaceaK02161.jpg\n",
      "http://www.dermnet.com/dn2/allJPGThumb3/07RosaceaK02162.jpg\n",
      "http://www.dermnet.com/dn2/allJPGThumb3/07RosaceaK02163.jpg\n",
      "http://www.dermnet.com/dn2/allJPGThumb3/07RosaceaK02164.jpg\n",
      "http://www.dermnet.com/dn2/allJPGThumb3/07RosaceaK02165.jpg\n",
      "http://www.dermnet.com/dn2/allJPGThumb3/07RosaceaK02166.jpg\n",
      "http://www.dermnet.com/dn2/allJPGThumb3/07RosaceaOK082806.jpg\n",
      "http://www.dermnet.com/dn2/allJPGThumb3/07RosaceaOK0828062.jpg\n",
      "http://www.dermnet.com/dn2/allJPGThumb3/07rosacea010206OK.jpg\n",
      "http://www.dermnet.com/dn2/allJPGThumb3/07RosaceaForehead.jpg\n",
      "http://www.dermnet.com/dn2/allJPGThumb3/07RosaceaFulFAce.jpg\n",
      "http://www.dermnet.com/dn2/allJPGThumb3/07RosaceaK0216.jpg\n",
      "http://www.dermnet.com/dn2/allJPGThumb3/07RosaceaK02161.jpg\n",
      "http://www.dermnet.com/dn2/allJPGThumb3/07RosaceaK02162.jpg\n",
      "http://www.dermnet.com/dn2/allJPGThumb3/07RosaceaK02163.jpg\n",
      "http://www.dermnet.com/dn2/allJPGThumb3/07RosaceaK02164.jpg\n",
      "http://www.dermnet.com/dn2/allJPGThumb3/07RosaceaK02165.jpg\n",
      "http://www.dermnet.com/dn2/allJPGThumb3/07RosaceaK02166.jpg\n",
      "http://www.dermnet.com/dn2/allJPGThumb3/07RosaceaOK082806.jpg\n",
      "http://www.dermnet.com/dn2/allJPGThumb3/07RosaceaOK0828062.jpg\n",
      "http://www.dermnet.com/dn2/allJPGThumb3/07rosacea010206OK.jpg\n",
      "http://www.dermnet.com/dn2/allJPGThumb3/07RosaceaForehead.jpg\n",
      "http://www.dermnet.com/dn2/allJPGThumb3/07RosaceaFulFAce.jpg\n",
      "http://www.dermnet.com/dn2/allJPGThumb3/07RosaceaK0216.jpg\n",
      "http://www.dermnet.com/dn2/allJPGThumb3/07RosaceaK02161.jpg\n",
      "http://www.dermnet.com/dn2/allJPGThumb3/07RosaceaK02162.jpg\n",
      "http://www.dermnet.com/dn2/allJPGThumb3/07RosaceaK02163.jpg\n",
      "http://www.dermnet.com/dn2/allJPGThumb3/07RosaceaK02164.jpg\n",
      "http://www.dermnet.com/dn2/allJPGThumb3/07RosaceaK02165.jpg\n",
      "http://www.dermnet.com/dn2/allJPGThumb3/07RosaceaK02166.jpg\n",
      "http://www.dermnet.com/dn2/allJPGThumb3/07RosaceaOK082806.jpg\n",
      "http://www.dermnet.com/dn2/allJPGThumb3/07RosaceaOK0828062.jpg\n"
     ]
    }
   ],
   "source": [
    "url = \"http://www.dermnet.com/images/Allergic-Contact-Dermatitis/photos/\"\n",
    "for i in range(1,20):\n",
    "    req = Request(url+str(i))\n",
    "    web_byte = urlopen(req).read()\n",
    "    webpage = web_byte.decode('utf-8')\n",
    "    page_soup = soup(webpage,\"html.parser\")\n",
    "    if str(i) != page_soup.find_all('div',class_ =\"breadcrumbs\")[0].text.strip()[-3:-1].strip():\n",
    "        break \n",
    "    for container in img_cont:\n",
    "        print(container.find_all('img')[0]['src'])"
   ]
  },
  {
   "cell_type": "code",
   "execution_count": 61,
   "metadata": {},
   "outputs": [
    {
     "output_type": "error",
     "ename": "IndentationError",
     "evalue": "expected an indented block (<ipython-input-61-72f34efef660>, line 10)",
     "traceback": [
      "\u001b[1;36m  File \u001b[1;32m\"<ipython-input-61-72f34efef660>\"\u001b[1;36m, line \u001b[1;32m10\u001b[0m\n\u001b[1;33m    url = \"http://www.dermnet.com/images/Allergic-Contact-Dermatitis/photos/\"\u001b[0m\n\u001b[1;37m      ^\u001b[0m\n\u001b[1;31mIndentationError\u001b[0m\u001b[1;31m:\u001b[0m expected an indented block\n"
     ]
    }
   ],
   "source": [
    "url = \"http://www.dermnet.com/images/Allergic-Contact-Dermatitis/photos/\n",
    "for i in range(1,20):\n",
    "    req = Request(url+str(i))\n",
    "    web_byte = urlopen(req).read()\n",
    "    webpage = web_byte.decode('utf-8')\n",
    "    page_soup = soup(webpage,\"html.parser\")\n",
    "    if str(i) != page_soup.find_all('div',class_ =\"breadcrumbs\")[0].text.strip()[-3:-1].strip():\n",
    "        break \n",
    "    img_cont =  page_soup.find_all('div', class_=\"thumbnails\")\n",
    "    for container in img_cont:\n",
    "       wget.download(container.find_all('img')[0]['src'],out='allergic-contact-dermatitis')"
   ]
  },
  {
   "cell_type": "code",
   "execution_count": 62,
   "metadata": {},
   "outputs": [
    {
     "output_type": "stream",
     "name": "stdout",
     "text": [
      "Downloading: 100% [17184 / 17184] bytes"
     ]
    }
   ],
   "source": [
    "def bar_progress(current, total, width=80):\n",
    "  progress_message = \"Downloading: %d%% [%d / %d] bytes\" % (current / total * 100, current, total)\n",
    "  sys.stdout.write(\"\\r\" + progress_message)\n",
    "  sys.stdout.flush()\n",
    "\n",
    "image_url = \"http://www.dermnet.com/dn2/allJPGThumb3/allergic-contact-dermatitis-112.jpg\"\n",
    "image_filename = wget.download(image_url,bar=bar_progress)"
   ]
  },
  {
   "cell_type": "code",
   "execution_count": 65,
   "metadata": {},
   "outputs": [],
   "source": [
    "os.mkdir(os.path.join(os.getcwd(),'Dataset'))"
   ]
  },
  {
   "cell_type": "code",
   "execution_count": null,
   "metadata": {},
   "outputs": [],
   "source": []
  }
 ]
}